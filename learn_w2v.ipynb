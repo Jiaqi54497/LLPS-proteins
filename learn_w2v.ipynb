{
 "cells": [
  {
   "cell_type": "code",
   "execution_count": 1,
   "metadata": {},
   "outputs": [],
   "source": [
    "import pandas as pd\n",
    "import numpy as np\n",
    "from gensim.models import Word2Vec"
   ]
  },
  {
   "cell_type": "code",
   "execution_count": 2,
   "metadata": {},
   "outputs": [
    {
     "data": {
      "text/html": [
       "<div>\n",
       "<style scoped>\n",
       "    .dataframe tbody tr th:only-of-type {\n",
       "        vertical-align: middle;\n",
       "    }\n",
       "\n",
       "    .dataframe tbody tr th {\n",
       "        vertical-align: top;\n",
       "    }\n",
       "\n",
       "    .dataframe thead th {\n",
       "        text-align: right;\n",
       "    }\n",
       "</style>\n",
       "<table border=\"1\" class=\"dataframe\">\n",
       "  <thead>\n",
       "    <tr style=\"text-align: right;\">\n",
       "      <th></th>\n",
       "      <th>Sequence</th>\n",
       "      <th>Uniprot_ID</th>\n",
       "    </tr>\n",
       "  </thead>\n",
       "  <tbody>\n",
       "    <tr>\n",
       "      <th>0</th>\n",
       "      <td>AGFQPQSQGMSLNDFQKQQKQAAPKPKKTLKLVSSSGIKLANATKK...</td>\n",
       "      <td>P05453</td>\n",
       "    </tr>\n",
       "    <tr>\n",
       "      <th>1</th>\n",
       "      <td>ASNDYTQQATQSYGAYPTQPGQGYSQQSSQPYGQQSYSGYSQSTDT...</td>\n",
       "      <td>P35637</td>\n",
       "    </tr>\n",
       "    <tr>\n",
       "      <th>2</th>\n",
       "      <td>CLRKKRKPQAEKVDVIAGSSKMKGFSSSESESSSESSSSDSEDSET...</td>\n",
       "      <td>O60885</td>\n",
       "    </tr>\n",
       "    <tr>\n",
       "      <th>3</th>\n",
       "      <td>DFDVYVLAKLLGFASEELQEEIEIIRDNVTDAFEACKPLLKKLMIE...</td>\n",
       "      <td>G5EBV6</td>\n",
       "    </tr>\n",
       "    <tr>\n",
       "      <th>4</th>\n",
       "      <td>EHHSGSQGPLLTTGDLGKEKTQKRVKEGNGTSNSTLSGPGLDSKPG...</td>\n",
       "      <td>Q15648</td>\n",
       "    </tr>\n",
       "  </tbody>\n",
       "</table>\n",
       "</div>"
      ],
      "text/plain": [
       "                                            Sequence Uniprot_ID\n",
       "0  AGFQPQSQGMSLNDFQKQQKQAAPKPKKTLKLVSSSGIKLANATKK...     P05453\n",
       "1  ASNDYTQQATQSYGAYPTQPGQGYSQQSSQPYGQQSYSGYSQSTDT...     P35637\n",
       "2  CLRKKRKPQAEKVDVIAGSSKMKGFSSSESESSSESSSSDSEDSET...     O60885\n",
       "3  DFDVYVLAKLLGFASEELQEEIEIIRDNVTDAFEACKPLLKKLMIE...     G5EBV6\n",
       "4  EHHSGSQGPLLTTGDLGKEKTQKRVKEGNGTSNSTLSGPGLDSKPG...     Q15648"
      ]
     },
     "execution_count": 2,
     "metadata": {},
     "output_type": "execute_result"
    }
   ],
   "source": [
    "df = pd.read_csv('llps_plus.csv')\n",
    "df.head()"
   ]
  },
  {
   "cell_type": "markdown",
   "metadata": {},
   "source": [
    "* **Turn every sequence into a list of \"words\".**"
   ]
  },
  {
   "cell_type": "code",
   "execution_count": 3,
   "metadata": {},
   "outputs": [
    {
     "data": {
      "text/plain": [
       "'AGFQPQSQGM'"
      ]
     },
     "execution_count": 3,
     "metadata": {},
     "output_type": "execute_result"
    }
   ],
   "source": [
    "a = df['Sequence'][0]\n",
    "a[:10]"
   ]
  },
  {
   "cell_type": "code",
   "execution_count": 4,
   "metadata": {},
   "outputs": [],
   "source": [
    "def split(a):\n",
    "    li = []\n",
    "    for i in range(len(a)-2):\n",
    "        li.append(a[i:i+3])\n",
    "    return li"
   ]
  },
  {
   "cell_type": "code",
   "execution_count": 5,
   "metadata": {},
   "outputs": [
    {
     "data": {
      "text/plain": [
       "['AGF', 'GFQ', 'FQP', 'QPQ', 'PQS', 'QSQ', 'SQG', 'QGM']"
      ]
     },
     "execution_count": 5,
     "metadata": {},
     "output_type": "execute_result"
    }
   ],
   "source": [
    "split(a[:10])"
   ]
  },
  {
   "cell_type": "code",
   "execution_count": 6,
   "metadata": {},
   "outputs": [],
   "source": [
    "def list_of_list(df):\n",
    "    li = []\n",
    "    for i in df['Sequence']:\n",
    "        li.append(split(i))\n",
    "    return li"
   ]
  },
  {
   "cell_type": "code",
   "execution_count": 7,
   "metadata": {},
   "outputs": [],
   "source": [
    "list_ready = list_of_list(df)"
   ]
  },
  {
   "cell_type": "code",
   "execution_count": 8,
   "metadata": {},
   "outputs": [],
   "source": [
    "model = Word2Vec(list_ready, min_count=1, vector_size=200, workers=3, window =25, sg = 1)"
   ]
  },
  {
   "cell_type": "code",
   "execution_count": 9,
   "metadata": {},
   "outputs": [
    {
     "data": {
      "text/plain": [
       "array([-0.1275142 , -0.01576965, -0.05634982,  0.02052849, -0.02335078,\n",
       "       -0.01450712,  0.13542205,  0.1382053 ,  0.06279629,  0.02277858,\n",
       "       -0.10079385, -0.10216703,  0.08223658,  0.02042447, -0.10879134,\n",
       "       -0.19353476,  0.19184062,  0.14299637, -0.07083549, -0.35484272,\n",
       "        0.21740547, -0.16162413,  0.1566952 ,  0.05244585,  0.13519347,\n",
       "       -0.3623077 ,  0.13425153,  0.01410956, -0.41087815, -0.24741313,\n",
       "       -0.00070055, -0.09579449, -0.16424643,  0.00386855,  0.01962795,\n",
       "       -0.11369668,  0.00315986, -0.06265814, -0.03353164,  0.01455961,\n",
       "       -0.08443578, -0.03773576, -0.00840029,  0.07896632,  0.11941255,\n",
       "       -0.11565246,  0.12334611, -0.23860414,  0.10358544,  0.21425094,\n",
       "       -0.00253741,  0.04341565,  0.00971762, -0.03986861,  0.048883  ,\n",
       "       -0.08821306, -0.10575729,  0.09801643, -0.26297405,  0.14085048,\n",
       "        0.2316894 ,  0.03907551, -0.10864814,  0.07841324, -0.19118337,\n",
       "        0.21216133,  0.02700089,  0.4567121 , -0.2566033 ,  0.35460275,\n",
       "        0.34671247, -0.09228355,  0.25391528, -0.03996111,  0.04983   ,\n",
       "        0.1348704 ,  0.17196134, -0.14808622, -0.18838009, -0.02234132,\n",
       "       -0.33198667, -0.17137817, -0.19199996,  0.03669819, -0.41443947,\n",
       "       -0.0252947 ,  0.29770848, -0.06124727, -0.12419941,  0.11429913,\n",
       "       -0.05420495, -0.08790728,  0.1285088 ,  0.3314286 ,  0.19722626,\n",
       "        0.02128118,  0.01818338,  0.139004  ,  0.02553363, -0.04946602,\n",
       "        0.03759666,  0.18840577, -0.2011685 , -0.18625881, -0.10575949,\n",
       "       -0.30714414,  0.06018499, -0.12241295,  0.01077163, -0.24666074,\n",
       "       -0.4324558 , -0.20195697, -0.0062026 ,  0.05294153, -0.08598744,\n",
       "       -0.12461412,  0.09894972, -0.3795422 , -0.0692402 ,  0.07093679,\n",
       "        0.03853731,  0.08973941,  0.1142329 , -0.18322404,  0.09354652,\n",
       "        0.20847555, -0.135179  , -0.01201271, -0.09594836, -0.06603766,\n",
       "        0.00700693,  0.13229859, -0.18043701, -0.17363273,  0.04612475,\n",
       "        0.08507048,  0.01964809, -0.22079812, -0.12504429, -0.07910566,\n",
       "        0.21914361,  0.09592292, -0.04762131, -0.05973724, -0.03686303,\n",
       "        0.11795654, -0.10649192,  0.07421388, -0.035969  , -0.13464732,\n",
       "       -0.19789077, -0.02350093, -0.17592338, -0.3135386 ,  0.1855739 ,\n",
       "        0.09050558, -0.11714349,  0.12749906, -0.04668538, -0.00706371,\n",
       "        0.04500412, -0.00903621,  0.09536041,  0.07734267,  0.15120883,\n",
       "        0.13722791,  0.10848185, -0.32471022,  0.0355683 , -0.07328861,\n",
       "       -0.25106823, -0.10978616,  0.0472277 , -0.3749561 ,  0.1783207 ,\n",
       "       -0.0051353 , -0.26621893,  0.04390245,  0.11768651,  0.00527973,\n",
       "        0.09806912,  0.11211038,  0.18527126,  0.16370745,  0.08403012,\n",
       "       -0.07571428, -0.00414887,  0.23101258,  0.09612949,  0.15902136,\n",
       "        0.01057109, -0.09910337,  0.07001539, -0.08419197, -0.14553571,\n",
       "        0.23593779,  0.1891164 ,  0.047311  ,  0.05542752,  0.01234501],\n",
       "      dtype=float32)"
      ]
     },
     "execution_count": 9,
     "metadata": {},
     "output_type": "execute_result"
    }
   ],
   "source": [
    "model.wv['AGF']"
   ]
  },
  {
   "cell_type": "code",
   "execution_count": 10,
   "metadata": {},
   "outputs": [
    {
     "data": {
      "text/plain": [
       "0.012345011"
      ]
     },
     "execution_count": 10,
     "metadata": {},
     "output_type": "execute_result"
    }
   ],
   "source": [
    "model.wv['AGF'][-1]"
   ]
  },
  {
   "cell_type": "code",
   "execution_count": 11,
   "metadata": {},
   "outputs": [
    {
     "data": {
      "text/plain": [
       "569"
      ]
     },
     "execution_count": 11,
     "metadata": {},
     "output_type": "execute_result"
    }
   ],
   "source": [
    "a_split = split(a)\n",
    "len(a_split)"
   ]
  },
  {
   "cell_type": "code",
   "execution_count": 12,
   "metadata": {},
   "outputs": [
    {
     "data": {
      "text/plain": [
       "400"
      ]
     },
     "execution_count": 12,
     "metadata": {},
     "output_type": "execute_result"
    }
   ],
   "source": [
    "l_plus = list(model.wv[a_split[0]])+list(model.wv[a_split[1]])\n",
    "len(l_plus)"
   ]
  },
  {
   "cell_type": "code",
   "execution_count": null,
   "metadata": {},
   "outputs": [],
   "source": []
  },
  {
   "cell_type": "code",
   "execution_count": null,
   "metadata": {},
   "outputs": [],
   "source": []
  },
  {
   "cell_type": "markdown",
   "metadata": {},
   "source": [
    "# Turn every sequence into a picture"
   ]
  },
  {
   "cell_type": "code",
   "execution_count": null,
   "metadata": {},
   "outputs": [],
   "source": []
  },
  {
   "cell_type": "code",
   "execution_count": 13,
   "metadata": {},
   "outputs": [],
   "source": [
    "def to_picture(dfs):\n",
    "    set = []\n",
    "    for j in range(len(dfs)):\n",
    "        sq_split = split(dfs[j])\n",
    "        sqq = []\n",
    "        for i in range(len(sq_split)):\n",
    "            sqq += list(model.wv[sq_split[i]])\n",
    "        picture = np.array(sqq).reshape((int(len(sqq)/200),200))\n",
    "        set.append(picture)\n",
    "    return set"
   ]
  },
  {
   "cell_type": "code",
   "execution_count": 14,
   "metadata": {},
   "outputs": [
    {
     "data": {
      "text/plain": [
       "571"
      ]
     },
     "execution_count": 14,
     "metadata": {},
     "output_type": "execute_result"
    }
   ],
   "source": [
    "df1 = df['Sequence'][:5]\n",
    "len(df1[0])"
   ]
  },
  {
   "cell_type": "code",
   "execution_count": 15,
   "metadata": {},
   "outputs": [
    {
     "data": {
      "text/plain": [
       "array([ True,  True,  True,  True,  True,  True,  True,  True,  True,\n",
       "        True,  True,  True,  True,  True,  True,  True,  True,  True,\n",
       "        True,  True,  True,  True,  True,  True,  True,  True,  True,\n",
       "        True,  True,  True,  True,  True,  True,  True,  True,  True,\n",
       "        True,  True,  True,  True,  True,  True,  True,  True,  True,\n",
       "        True,  True,  True,  True,  True,  True,  True,  True,  True,\n",
       "        True,  True,  True,  True,  True,  True,  True,  True,  True,\n",
       "        True,  True,  True,  True,  True,  True,  True,  True,  True,\n",
       "        True,  True,  True,  True,  True,  True,  True,  True,  True,\n",
       "        True,  True,  True,  True,  True,  True,  True,  True,  True,\n",
       "        True,  True,  True,  True,  True,  True,  True,  True,  True,\n",
       "        True,  True,  True,  True,  True,  True,  True,  True,  True,\n",
       "        True,  True,  True,  True,  True,  True,  True,  True,  True,\n",
       "        True,  True,  True,  True,  True,  True,  True,  True,  True,\n",
       "        True,  True,  True,  True,  True,  True,  True,  True,  True,\n",
       "        True,  True,  True,  True,  True,  True,  True,  True,  True,\n",
       "        True,  True,  True,  True,  True,  True,  True,  True,  True,\n",
       "        True,  True,  True,  True,  True,  True,  True,  True,  True,\n",
       "        True,  True,  True,  True,  True,  True,  True,  True,  True,\n",
       "        True,  True,  True,  True,  True,  True,  True,  True,  True,\n",
       "        True,  True,  True,  True,  True,  True,  True,  True,  True,\n",
       "        True,  True,  True,  True,  True,  True,  True,  True,  True,\n",
       "        True,  True])"
      ]
     },
     "execution_count": 15,
     "metadata": {},
     "output_type": "execute_result"
    }
   ],
   "source": [
    "pic1 = to_picture(df1)\n",
    "pic1[0][0] == model.wv['AGF']"
   ]
  },
  {
   "cell_type": "markdown",
   "metadata": {},
   "source": [
    "# Try to plot a picture"
   ]
  },
  {
   "cell_type": "code",
   "execution_count": 24,
   "metadata": {},
   "outputs": [
    {
     "data": {
      "text/plain": [
       "<matplotlib.image.AxesImage at 0x1f5e25fe948>"
      ]
     },
     "execution_count": 24,
     "metadata": {},
     "output_type": "execute_result"
    },
    {
     "data": {
      "image/png": "[encoded data removed]",
      "text/plain": [
       "<Figure size 432x288 with 1 Axes>"
      ]
     },
     "metadata": {
      "needs_background": "light"
     },
     "output_type": "display_data"
    }
   ],
   "source": [
    "%matplotlib inline\n",
    "import matplotlib.pyplot as plt\n",
    "import IPython\n",
    "plt.imshow(pic1[0])"
   ]
  },
  {
   "cell_type": "code",
   "execution_count": null,
   "metadata": {},
   "outputs": [],
   "source": []
  },
  {
   "cell_type": "markdown",
   "metadata": {},
   "source": [
    "# Split the training set and test set"
   ]
  },
  {
   "cell_type": "code",
   "execution_count": 27,
   "metadata": {},
   "outputs": [],
   "source": [
    "full_positive = to_picture(df['Sequence'])"
   ]
  },
  {
   "cell_type": "code",
   "execution_count": 28,
   "metadata": {},
   "outputs": [],
   "source": [
    "from sklearn.model_selection import train_test_split"
   ]
  },
  {
   "cell_type": "code",
   "execution_count": 29,
   "metadata": {},
   "outputs": [
    {
     "data": {
      "text/plain": [
       "137"
      ]
     },
     "execution_count": 29,
     "metadata": {},
     "output_type": "execute_result"
    }
   ],
   "source": [
    "len(full_positive)"
   ]
  },
  {
   "cell_type": "code",
   "execution_count": 43,
   "metadata": {},
   "outputs": [],
   "source": [
    "full_positive = np.array(full_positive)"
   ]
  },
  {
   "cell_type": "code",
   "execution_count": 44,
   "metadata": {},
   "outputs": [],
   "source": [
    "y_positive = np.ones(137)"
   ]
  },
  {
   "cell_type": "code",
   "execution_count": 45,
   "metadata": {},
   "outputs": [],
   "source": [
    "X_posi_train, X_posi_test, y_posi_train, y_posi_test = train_test_split(full_positive, y_positive, test_size=0.33, random_state=42)"
   ]
  },
  {
   "cell_type": "markdown",
   "metadata": {},
   "source": [
    "# Data size reshape"
   ]
  },
  {
   "cell_type": "code",
   "execution_count": 47,
   "metadata": {},
   "outputs": [
    {
     "data": {
      "text/plain": [
       "(91,)"
      ]
     },
     "execution_count": 47,
     "metadata": {},
     "output_type": "execute_result"
    }
   ],
   "source": [
    "np.array(X_posi_train).shape"
   ]
  },
  {
   "cell_type": "code",
   "execution_count": 48,
   "metadata": {},
   "outputs": [
    {
     "name": "stdout",
     "output_type": "stream",
     "text": [
      "(150, 200)\n",
      "(447, 200)\n",
      "(452, 200)\n",
      "(622, 200)\n",
      "(530, 200)\n"
     ]
    }
   ],
   "source": [
    "for i in range(5):\n",
    "    print(X_posi_train[i].shape)"
   ]
  },
  {
   "cell_type": "code",
   "execution_count": null,
   "metadata": {},
   "outputs": [],
   "source": [
    "img_width, img_height = 150, 200\n",
    "\n",
    "#train_data_dir = '/yourdir/train'\n",
    "#validation_data_dir = '/yourdir/validation'\n",
    "nb_train_samples = \n",
    "nb_validation_samples = \n",
    "epochs = 50\n",
    "batch_size = 16\n",
    "\n",
    "if K.image_data_format() == 'channels_first':\n",
    "    input_shape = (3, img_width, img_height)\n",
    "else:\n",
    "    input_shape = (img_width, img_height, 3)\n",
    "\n",
    "\n",
    "\n",
    "model = Sequential()\n",
    "model.add(Conv2D(32, (3, 3), input_shape=input_shape))\n",
    "model.add(Activation('relu'))\n",
    "model.add(MaxPooling2D(pool_size=(2, 2)))\n",
    "\n",
    "model.add(Conv2D(32, (3, 3)))\n",
    "model.add(Activation('relu'))\n",
    "model.add(MaxPooling2D(pool_size=(2, 2)))\n",
    "\n",
    "model.add(Conv2D(64, (3, 3)))\n",
    "model.add(Activation('relu'))\n",
    "model.add(MaxPooling2D(pool_size=(2, 2)))\n",
    "\n",
    "model.add(Flatten())\n",
    "model.add(Dense(64))\n",
    "model.add(Activation('relu'))\n",
    "model.add(Dense(64))\n",
    "model.add(Activation('relu'))\n",
    "model.add(Dropout(0.3))\n",
    "model.add(Dense(1))\n",
    "model.add(Activation('sigmoid'))\n",
    "\n",
    "model.compile(loss='binary_crossentropy',\n",
    "              optimizer='rmsprop',\n",
    "              metrics=['accuracy'])\n",
    "\n",
    "\n",
    "train_datagen = ImageDataGenerator(\n",
    "    rescale=1. / 255,\n",
    "    shear_range=0.1,\n",
    "    zoom_range=0.1,\n",
    "    horizontal_flip=True)\n",
    "\n",
    "test_datagen = ImageDataGenerator(rescale=1. / 255)\n",
    "\n",
    "train_generator = train_datagen.flow_from_directory(\n",
    "    train_data_dir,\n",
    "    target_size=(img_width, img_height),\n",
    "    batch_size=batch_size,\n",
    "    class_mode='binary')\n",
    "\n",
    "validation_generator = test_datagen.flow_from_directory(\n",
    "    validation_data_dir,\n",
    "    target_size=(img_width, img_height),\n",
    "    batch_size=batch_size,\n",
    "    class_mode='binary')"
   ]
  }
 ],
 "metadata": {
  "kernelspec": {
   "display_name": "Python 3",
   "language": "python",
   "name": "python3"
  },
  "language_info": {
   "codemirror_mode": {
    "name": "ipython",
    "version": 3
   },
   "file_extension": ".py",
   "mimetype": "text/x-python",
   "name": "python",
   "nbconvert_exporter": "python",
   "pygments_lexer": "ipython3",
   "version": "3.8.10"
  }
 },
 "nbformat": 4,
 "nbformat_minor": 4
}
